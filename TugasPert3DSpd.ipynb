{
  "nbformat": 4,
  "nbformat_minor": 0,
  "metadata": {
    "colab": {
      "provenance": [],
      "authorship_tag": "ABX9TyO4UKxP90otwTcJm6JMfwys",
      "include_colab_link": true
    },
    "kernelspec": {
      "name": "python3",
      "display_name": "Python 3"
    },
    "language_info": {
      "name": "python"
    }
  },
  "cells": [
    {
      "cell_type": "markdown",
      "metadata": {
        "id": "view-in-github",
        "colab_type": "text"
      },
      "source": [
        "<a href=\"https://colab.research.google.com/github/InggitPLowrensita/TugasPert2DS/blob/main/TugasPert3DSpd.ipynb\" target=\"_parent\"><img src=\"https://colab.research.google.com/assets/colab-badge.svg\" alt=\"Open In Colab\"/></a>"
      ]
    },
    {
      "cell_type": "code",
      "execution_count": null,
      "metadata": {
        "id": "8W6apDwQTtST",
        "colab": {
          "base_uri": "https://localhost:8080/"
        },
        "outputId": "5f0e682f-a1a7-4076-9e9a-796444453692"
      },
      "outputs": [
        {
          "output_type": "stream",
          "name": "stdout",
          "text": [
            "                 nama     gender     No_Teepon\n",
            "0      Arfian Purnama  Laki-laki  081267001022\n",
            "1  Alisa Dityaningrum  Perempuan  087823560918\n",
            "2      Kiki Anggraeni  Perempuan  089654009102\n",
            "3     Rizky Kurniawan  Laki-laki  082267018967\n"
          ]
        }
      ],
      "source": [
        "import pandas as pd\n",
        "\n",
        "#membuat data\n",
        "data = {\n",
        "    'nama': ['Arfian Purnama', 'Alisa Dityaningrum', 'Kiki Anggraeni', 'Rizky Kurniawan'],\n",
        "    'gender': ['Laki-laki', 'Perempuan', 'Perempuan', 'Laki-laki'],\n",
        "    'No_Teepon': ['081267001022', '087823560918', '089654009102', '082267018967']\n",
        "}\n",
        "\n",
        "#membuat DataFrame dari Data\n",
        "df = pd.DataFrame(data)\n",
        "\n",
        "#menmpilkan DataFrame\n",
        "print(df)"
      ]
    },
    {
      "cell_type": "code",
      "source": [
        "import pandas as pd\n",
        "\n",
        "#membuat data\n",
        "data = {\n",
        "    'nama': ['Arfian Purnama', 'Alisa Dityaningrum', 'Kiki Anggraeni', 'Rizky Kurniawan'],\n",
        "    'gender': ['Laki-laki', 'Perempuan', 'Perempuan', 'Laki-laki'],\n",
        "    'No_Teepon': ['081267001022', '087823560918', '089654009102', '082267018967'],\n",
        "    'Tugas': ['80', '89', '76', '80'],\n",
        "    'UTS': ['88', '78', '90', '81'],\n",
        "    'UAS': ['90', '89', '85', '82']\n",
        "}\n",
        "\n",
        "#membuat DataFrame dari Data\n",
        "df = pd.DataFrame(data)\n",
        "\n",
        "#menmpilkan DataFrame\n",
        "print(df)\n"
      ],
      "metadata": {
        "colab": {
          "base_uri": "https://localhost:8080/"
        },
        "id": "LCFCu3rViQLG",
        "outputId": "a66dc04f-2abd-446b-ce57-2a993903810c"
      },
      "execution_count": null,
      "outputs": [
        {
          "output_type": "stream",
          "name": "stdout",
          "text": [
            "                 nama     gender     No_Teepon Tugas UTS UAS\n",
            "0      Arfian Purnama  Laki-laki  081267001022    80  88  90\n",
            "1  Alisa Dityaningrum  Perempuan  087823560918    89  78  89\n",
            "2      Kiki Anggraeni  Perempuan  089654009102    76  90  85\n",
            "3     Rizky Kurniawan  Laki-laki  082267018967    80  81  82\n"
          ]
        }
      ]
    },
    {
      "cell_type": "code",
      "source": [
        "import pandas as pd\n",
        "\n",
        "# Membuat data\n",
        "data = {\n",
        "    'nama': ['Arfian Purnama', 'Alisa Dityaningrum', 'Kiki Anggraeni', 'Rizky Kurniawan'],\n",
        "    'gender': ['Laki-laki', 'Perempuan', 'Perempuan', 'Laki-laki'],\n",
        "    'No_Teepon': ['081267001022', '087823560918', '089654009102', '082267018967'],\n",
        "    'Tugas': [80, 89, 76, 80],\n",
        "    'UTS': [88, 78, 90, 81],\n",
        "    'UAS': [90, 89, 85, 82]\n",
        "}\n",
        "\n",
        "# Membuat DataFrame dari Data\n",
        "df = pd.DataFrame(data)\n",
        "\n",
        "# Hitung nilai akhir\n",
        "df['Nilai Akhir'] = (0.3 * df['Tugas'] + 0.3 * df['UTS'] + 0.4 * df['UAS']).round(2)\n",
        "\n",
        "# Menampilkan DataFrame dengan nilai akhir\n",
        "print(df)\n"
      ],
      "metadata": {
        "colab": {
          "base_uri": "https://localhost:8080/"
        },
        "id": "hUZ0JYXakJ9y",
        "outputId": "05e100e3-4e73-46c1-d7a8-f21f774701bf"
      },
      "execution_count": null,
      "outputs": [
        {
          "output_type": "stream",
          "name": "stdout",
          "text": [
            "                 nama     gender     No_Teepon  Tugas  UTS  UAS  Nilai Akhir\n",
            "0      Arfian Purnama  Laki-laki  081267001022     80   88   90         86.4\n",
            "1  Alisa Dityaningrum  Perempuan  087823560918     89   78   89         85.7\n",
            "2      Kiki Anggraeni  Perempuan  089654009102     76   90   85         83.8\n",
            "3     Rizky Kurniawan  Laki-laki  082267018967     80   81   82         81.1\n"
          ]
        }
      ]
    }
  ]
}