{
  "nbformat": 4,
  "nbformat_minor": 0,
  "metadata": {
    "colab": {
      "provenance": [],
      "authorship_tag": "ABX9TyMLXq2RnQz6xCQpeHjGw49r",
      "include_colab_link": true
    },
    "kernelspec": {
      "name": "python3",
      "display_name": "Python 3"
    },
    "language_info": {
      "name": "python"
    }
  },
  "cells": [
    {
      "cell_type": "markdown",
      "metadata": {
        "id": "view-in-github",
        "colab_type": "text"
      },
      "source": [
        "<a href=\"https://colab.research.google.com/github/InggitPLowrensita/PemrogramanDS/blob/main/TugasPert9DSKaggle.ipynb\" target=\"_parent\"><img src=\"https://colab.research.google.com/assets/colab-badge.svg\" alt=\"Open In Colab\"/></a>"
      ]
    },
    {
      "cell_type": "code",
      "execution_count": 2,
      "metadata": {
        "colab": {
          "base_uri": "https://localhost:8080/"
        },
        "id": "T_mjS1mstbdl",
        "outputId": "02fc1c58-c8fc-445d-d7b0-767966a96882"
      },
      "outputs": [
        {
          "output_type": "stream",
          "name": "stdout",
          "text": [
            "Requirement already satisfied: kaggle in /usr/local/lib/python3.10/dist-packages (1.6.14)\n",
            "Requirement already satisfied: six>=1.10 in /usr/local/lib/python3.10/dist-packages (from kaggle) (1.16.0)\n",
            "Requirement already satisfied: certifi>=2023.7.22 in /usr/local/lib/python3.10/dist-packages (from kaggle) (2024.2.2)\n",
            "Requirement already satisfied: python-dateutil in /usr/local/lib/python3.10/dist-packages (from kaggle) (2.8.2)\n",
            "Requirement already satisfied: requests in /usr/local/lib/python3.10/dist-packages (from kaggle) (2.31.0)\n",
            "Requirement already satisfied: tqdm in /usr/local/lib/python3.10/dist-packages (from kaggle) (4.66.4)\n",
            "Requirement already satisfied: python-slugify in /usr/local/lib/python3.10/dist-packages (from kaggle) (8.0.4)\n",
            "Requirement already satisfied: urllib3 in /usr/local/lib/python3.10/dist-packages (from kaggle) (2.0.7)\n",
            "Requirement already satisfied: bleach in /usr/local/lib/python3.10/dist-packages (from kaggle) (6.1.0)\n",
            "Requirement already satisfied: webencodings in /usr/local/lib/python3.10/dist-packages (from bleach->kaggle) (0.5.1)\n",
            "Requirement already satisfied: text-unidecode>=1.3 in /usr/local/lib/python3.10/dist-packages (from python-slugify->kaggle) (1.3)\n",
            "Requirement already satisfied: charset-normalizer<4,>=2 in /usr/local/lib/python3.10/dist-packages (from requests->kaggle) (3.3.2)\n",
            "Requirement already satisfied: idna<4,>=2.5 in /usr/local/lib/python3.10/dist-packages (from requests->kaggle) (3.7)\n"
          ]
        }
      ],
      "source": [
        "!pip install kaggle"
      ]
    },
    {
      "cell_type": "code",
      "source": [
        "import os\n",
        "os.environ['KAGGLE_USERNAME'] = 'inggitplowrensitaa'\n",
        "os.environ['KAGGLE_KEY'] = '~/.kaggle/kaggle.json'\n",
        "import kaggle"
      ],
      "metadata": {
        "id": "FGnTwHvpvAd2"
      },
      "execution_count": 3,
      "outputs": []
    },
    {
      "cell_type": "code",
      "source": [
        "!kaggle datasets download -d benroshan/ecommerce-data"
      ],
      "metadata": {
        "colab": {
          "base_uri": "https://localhost:8080/"
        },
        "id": "ReCDh52DycrH",
        "outputId": "40f917f1-e47b-40e0-e8e8-3050faaf2d7d"
      },
      "execution_count": 4,
      "outputs": [
        {
          "output_type": "stream",
          "name": "stdout",
          "text": [
            "Dataset URL: https://www.kaggle.com/datasets/benroshan/ecommerce-data\n",
            "License(s): CC0-1.0\n",
            "Downloading ecommerce-data.zip to /content\n",
            "  0% 0.00/17.9k [00:00<?, ?B/s]\n",
            "100% 17.9k/17.9k [00:00<00:00, 32.4MB/s]\n"
          ]
        }
      ]
    },
    {
      "cell_type": "code",
      "source": [
        "from zipfile import ZipFile\n",
        "file_name = 'ecommerce-data.zip'\n",
        "with ZipFile(file_name, 'r') as zip:\n",
        "  zip.extractall()\n",
        "  print('Done')"
      ],
      "metadata": {
        "colab": {
          "base_uri": "https://localhost:8080/"
        },
        "id": "A1dOGbSXw1Cy",
        "outputId": "4fa6e177-b5a1-491c-cfb1-a92bea7cca9d"
      },
      "execution_count": 5,
      "outputs": [
        {
          "output_type": "stream",
          "name": "stdout",
          "text": [
            "Done\n"
          ]
        }
      ]
    },
    {
      "cell_type": "code",
      "source": [
        "import pandas as pd\n",
        "import zipfile\n",
        "\n",
        "# Buka file ZIP dan ekstrak setiap file CSV ke direktori\n",
        "with zipfile.ZipFile('ecommerce-data.zip', 'r') as zip:\n",
        "    zip.extract('List of Orders.csv')\n",
        "    zip.extract('Order Details.csv')\n",
        "    zip.extract('Sales target.csv')\n",
        "\n",
        "# Baca masing-masing file CSV ke dataframe terpisah\n",
        "df_orders = pd.read_csv('List of Orders.csv')\n",
        "df_details = pd.read_csv('Order Details.csv')\n",
        "df_sales = pd.read_csv('Sales target.csv')\n",
        "\n",
        "# Gunakan dataframe sesuai kebutuhan\n",
        "print(df_orders.head())\n",
        "print(df_details.head())\n",
        "print(df_sales.head())"
      ],
      "metadata": {
        "colab": {
          "base_uri": "https://localhost:8080/"
        },
        "id": "b9RooCg-Bu-v",
        "outputId": "2494661b-4e3a-49f2-8255-77b3c3b18291"
      },
      "execution_count": 6,
      "outputs": [
        {
          "output_type": "stream",
          "name": "stdout",
          "text": [
            "  Order ID  Order Date CustomerName           State       City\n",
            "0  B-25601  01-04-2018       Bharat         Gujarat  Ahmedabad\n",
            "1  B-25602  01-04-2018        Pearl     Maharashtra       Pune\n",
            "2  B-25603  03-04-2018        Jahan  Madhya Pradesh     Bhopal\n",
            "3  B-25604  03-04-2018       Divsha       Rajasthan     Jaipur\n",
            "4  B-25605  05-04-2018      Kasheen     West Bengal    Kolkata\n",
            "  Order ID  Amount  Profit  Quantity     Category      Sub-Category\n",
            "0  B-25601  1275.0 -1148.0         7    Furniture         Bookcases\n",
            "1  B-25601    66.0   -12.0         5     Clothing             Stole\n",
            "2  B-25601     8.0    -2.0         3     Clothing       Hankerchief\n",
            "3  B-25601    80.0   -56.0         4  Electronics  Electronic Games\n",
            "4  B-25602   168.0  -111.0         2  Electronics            Phones\n",
            "  Month of Order Date   Category   Target\n",
            "0              Apr-18  Furniture  10400.0\n",
            "1              May-18  Furniture  10500.0\n",
            "2              Jun-18  Furniture  10600.0\n",
            "3              Jul-18  Furniture  10800.0\n",
            "4              Aug-18  Furniture  10900.0\n"
          ]
        }
      ]
    }
  ]
}