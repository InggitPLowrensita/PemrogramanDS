{
  "nbformat": 4,
  "nbformat_minor": 0,
  "metadata": {
    "colab": {
      "provenance": [],
      "authorship_tag": "ABX9TyMGqFVMmaIuTmyOZKVNe3uN",
      "include_colab_link": true
    },
    "kernelspec": {
      "name": "python3",
      "display_name": "Python 3"
    },
    "language_info": {
      "name": "python"
    }
  },
  "cells": [
    {
      "cell_type": "markdown",
      "metadata": {
        "id": "view-in-github",
        "colab_type": "text"
      },
      "source": [
        "<a href=\"https://colab.research.google.com/github/InggitPLowrensita/PemrogramanDS/blob/main/TugasPert9DSKaggle.ipynb\" target=\"_parent\"><img src=\"https://colab.research.google.com/assets/colab-badge.svg\" alt=\"Open In Colab\"/></a>"
      ]
    },
    {
      "cell_type": "code",
      "execution_count": 7,
      "metadata": {
        "colab": {
          "base_uri": "https://localhost:8080/"
        },
        "id": "T_mjS1mstbdl",
        "outputId": "94db9775-a79d-4c4f-f26a-fa02b8d2dd14"
      },
      "outputs": [
        {
          "output_type": "stream",
          "name": "stdout",
          "text": [
            "Requirement already satisfied: kaggle in /usr/local/lib/python3.10/dist-packages (1.6.14)\n",
            "Requirement already satisfied: six>=1.10 in /usr/local/lib/python3.10/dist-packages (from kaggle) (1.16.0)\n",
            "Requirement already satisfied: certifi>=2023.7.22 in /usr/local/lib/python3.10/dist-packages (from kaggle) (2024.2.2)\n",
            "Requirement already satisfied: python-dateutil in /usr/local/lib/python3.10/dist-packages (from kaggle) (2.8.2)\n",
            "Requirement already satisfied: requests in /usr/local/lib/python3.10/dist-packages (from kaggle) (2.31.0)\n",
            "Requirement already satisfied: tqdm in /usr/local/lib/python3.10/dist-packages (from kaggle) (4.66.4)\n",
            "Requirement already satisfied: python-slugify in /usr/local/lib/python3.10/dist-packages (from kaggle) (8.0.4)\n",
            "Requirement already satisfied: urllib3 in /usr/local/lib/python3.10/dist-packages (from kaggle) (2.0.7)\n",
            "Requirement already satisfied: bleach in /usr/local/lib/python3.10/dist-packages (from kaggle) (6.1.0)\n",
            "Requirement already satisfied: webencodings in /usr/local/lib/python3.10/dist-packages (from bleach->kaggle) (0.5.1)\n",
            "Requirement already satisfied: text-unidecode>=1.3 in /usr/local/lib/python3.10/dist-packages (from python-slugify->kaggle) (1.3)\n",
            "Requirement already satisfied: charset-normalizer<4,>=2 in /usr/local/lib/python3.10/dist-packages (from requests->kaggle) (3.3.2)\n",
            "Requirement already satisfied: idna<4,>=2.5 in /usr/local/lib/python3.10/dist-packages (from requests->kaggle) (3.7)\n"
          ]
        }
      ],
      "source": [
        "!pip install kaggle"
      ]
    },
    {
      "cell_type": "code",
      "source": [
        "import os\n",
        "os.environ['KAGGLE_USERNAME'] = 'inggitplowrensitaa'\n",
        "os.environ['KAGGLE_KEY'] = '~/.kaggle/kaggle.json'\n",
        "import kaggle"
      ],
      "metadata": {
        "id": "FGnTwHvpvAd2"
      },
      "execution_count": 8,
      "outputs": []
    },
    {
      "cell_type": "code",
      "source": [
        "!kaggle datasets download -d prachi13/customer-analytics"
      ],
      "metadata": {
        "colab": {
          "base_uri": "https://localhost:8080/"
        },
        "id": "ReCDh52DycrH",
        "outputId": "a46fabaf-f9be-4ada-9fa7-30dd2f52f5b9"
      },
      "execution_count": 9,
      "outputs": [
        {
          "output_type": "stream",
          "name": "stdout",
          "text": [
            "Dataset URL: https://www.kaggle.com/datasets/prachi13/customer-analytics\n",
            "License(s): other\n",
            "Downloading customer-analytics.zip to /content\n",
            "100% 121k/121k [00:00<00:00, 419kB/s]\n",
            "100% 121k/121k [00:00<00:00, 418kB/s]\n"
          ]
        }
      ]
    },
    {
      "cell_type": "code",
      "source": [
        "from zipfile import ZipFile\n",
        "file_name = 'customer-analytics.zip'\n",
        "with ZipFile(file_name, 'r') as zip:\n",
        "  zip.extractall()\n",
        "  print('Done')"
      ],
      "metadata": {
        "colab": {
          "base_uri": "https://localhost:8080/"
        },
        "id": "A1dOGbSXw1Cy",
        "outputId": "a22a23ff-bdc7-4b8d-863f-5a1baa42d185"
      },
      "execution_count": 10,
      "outputs": [
        {
          "output_type": "stream",
          "name": "stdout",
          "text": [
            "Done\n"
          ]
        }
      ]
    },
    {
      "cell_type": "code",
      "source": [
        "import pandas as pd\n",
        "\n",
        "# Buka file CSV yang di-ekstrak\n",
        "df = pd.read_csv('customer-analytics.zip')\n",
        "\n",
        "# Lihat isi file\n",
        "print(df.head(5))"
      ],
      "metadata": {
        "colab": {
          "base_uri": "https://localhost:8080/"
        },
        "id": "b9RooCg-Bu-v",
        "outputId": "932ee584-36fc-4c00-9f73-c82c4fe453b7"
      },
      "execution_count": 11,
      "outputs": [
        {
          "output_type": "stream",
          "name": "stdout",
          "text": [
            "   ID Warehouse_block Mode_of_Shipment  Customer_care_calls  Customer_rating  \\\n",
            "0   1               D           Flight                    4                2   \n",
            "1   2               F           Flight                    4                5   \n",
            "2   3               A           Flight                    2                2   \n",
            "3   4               B           Flight                    3                3   \n",
            "4   5               C           Flight                    2                2   \n",
            "\n",
            "   Cost_of_the_Product  Prior_purchases Product_importance Gender  \\\n",
            "0                  177                3                low      F   \n",
            "1                  216                2                low      M   \n",
            "2                  183                4                low      M   \n",
            "3                  176                4             medium      M   \n",
            "4                  184                3             medium      F   \n",
            "\n",
            "   Discount_offered  Weight_in_gms  Reached.on.Time_Y.N  \n",
            "0                44           1233                    1  \n",
            "1                59           3088                    1  \n",
            "2                48           3374                    1  \n",
            "3                10           1177                    1  \n",
            "4                46           2484                    1  \n"
          ]
        }
      ]
    }
  ]
}